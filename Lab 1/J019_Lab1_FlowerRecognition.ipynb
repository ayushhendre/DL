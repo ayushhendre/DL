{
  "nbformat": 4,
  "nbformat_minor": 0,
  "metadata": {
    "colab": {
      "name": "J019_Lab1_FlowerRecognition.ipynb",
      "provenance": []
    },
    "kernelspec": {
      "name": "python3",
      "display_name": "Python 3"
    }
  },
  "cells": [
    {
      "cell_type": "code",
      "metadata": {
        "id": "njtHEapaYqYl"
      },
      "source": [
        "# Ignore  the warnings\n",
        "import warnings\n",
        "warnings.filterwarnings('always')\n",
        "warnings.filterwarnings('ignore')\n",
        "\n",
        "# data visualisation and manipulation\n",
        "import numpy as np\n",
        "import pandas as pd\n",
        "import matplotlib.pyplot as plt\n",
        "from matplotlib import style\n",
        "import seaborn as sns\n",
        " \n",
        "#configure\n",
        "# sets matplotlib to inline and displays graphs below the corressponding cell.\n",
        "%matplotlib inline  \n",
        "style.use('fivethirtyeight')\n",
        "sns.set(style='whitegrid',color_codes=True)\n",
        "\n",
        "#model selection\n",
        "from sklearn.model_selection import train_test_split\n",
        "from sklearn.model_selection import KFold\n",
        "from sklearn.metrics import accuracy_score,precision_score,recall_score,confusion_matrix,roc_curve,roc_auc_score\n",
        "from sklearn.model_selection import GridSearchCV\n",
        "from sklearn.preprocessing import LabelEncoder\n",
        "\n",
        "#preprocess.\n",
        "from keras.preprocessing.image import ImageDataGenerator\n",
        "\n",
        "#dl libraraies\n",
        "from keras import backend as K\n",
        "from keras.models import Sequential\n",
        "from keras.layers import Dense\n",
        "from keras.optimizers import Adam,SGD,Adagrad,Adadelta,RMSprop\n",
        "from keras.utils import to_categorical\n",
        "\n",
        "# specifically for cnn\n",
        "from keras.layers import Dropout, Flatten,Activation\n",
        "from keras.layers import Conv2D, MaxPooling2D, BatchNormalization\n",
        " \n",
        "import tensorflow as tf\n",
        "import random as rn\n",
        "\n",
        "# specifically for manipulating zipped images and getting numpy arrays of pixel values of images.\n",
        "import cv2                  \n",
        "import numpy as np  \n",
        "from tqdm import tqdm\n",
        "import os                   \n",
        "from random import shuffle  \n",
        "from zipfile import ZipFile\n",
        "from PIL import Image"
      ],
      "execution_count": null,
      "outputs": []
    },
    {
      "cell_type": "code",
      "metadata": {
        "colab": {
          "base_uri": "https://localhost:8080/"
        },
        "id": "k9lmYvFcXz1t",
        "outputId": "9fc4027d-b891-4381-e7fd-3b2d4b99b1f9"
      },
      "source": [
        "!wget http://upscfever.com/datasets/flowers-new.zip -P drive/app\n",
        "import os\n",
        "os.chdir('drive/app')  #change dir\n",
        "!unzip -q flowers-new.zip  #unzip data in test/"
      ],
      "execution_count": null,
      "outputs": [
        {
          "output_type": "stream",
          "text": [
            "--2020-12-11 13:23:36--  http://upscfever.com/datasets/flowers-new.zip\n",
            "Resolving upscfever.com (upscfever.com)... 104.27.176.133, 104.27.177.133, 172.67.193.2, ...\n",
            "Connecting to upscfever.com (upscfever.com)|104.27.176.133|:80... connected.\n",
            "HTTP request sent, awaiting response... 301 Moved Permanently\n",
            "Location: https://upscfever.com/datasets/flowers-new.zip [following]\n",
            "--2020-12-11 13:23:37--  https://upscfever.com/datasets/flowers-new.zip\n",
            "Connecting to upscfever.com (upscfever.com)|104.27.176.133|:443... connected.\n",
            "HTTP request sent, awaiting response... 200 OK\n",
            "Length: unspecified [application/zip]\n",
            "Saving to: ‘drive/app/flowers-new.zip’\n",
            "\n",
            "flowers-new.zip         [         <=>        ]   5.74M  2.33MB/s    in 2.5s    \n",
            "\n",
            "2020-12-11 13:23:41 (2.33 MB/s) - ‘drive/app/flowers-new.zip’ saved [6021364]\n",
            "\n"
          ],
          "name": "stdout"
        }
      ]
    },
    {
      "cell_type": "code",
      "metadata": {
        "colab": {
          "base_uri": "https://localhost:8080/"
        },
        "id": "xtCVnnHCnYtd",
        "outputId": "904b19a9-24a1-4a9e-f167-e875ddd90787"
      },
      "source": [
        "from google.colab import drive\n",
        "drive.mount(\"/content/gdrive\")"
      ],
      "execution_count": null,
      "outputs": [
        {
          "output_type": "stream",
          "text": [
            "Mounted at /content/gdrive\n"
          ],
          "name": "stdout"
        }
      ]
    },
    {
      "cell_type": "code",
      "metadata": {
        "id": "Q4xA8vp7YHbb"
      },
      "source": [
        "X=[]\n",
        "Z=[]\n",
        "IMG_SIZE=150\n",
        "FLOWER_DAISY_DIR='/content/gdrive/MyDrive/Flowers/daisy'\n",
        "FLOWER_SUNFLOWER_DIR='/content/gdrive/MyDrive/Flowers/sunflower'\n",
        "FLOWER_TULIP_DIR='/content/gdrive/MyDrive/Flowers/tulip'\n",
        "FLOWER_DANDI_DIR='/content/gdrive/MyDrive/Flowers/dandelion'\n",
        "FLOWER_ROSE_DIR='/content/gdrive/MyDrive/Flowers/rose'"
      ],
      "execution_count": null,
      "outputs": []
    },
    {
      "cell_type": "code",
      "metadata": {
        "id": "7FOs1jSKY0NR"
      },
      "source": [
        "def assign_label(img,flower_type):\n",
        "    return flower_type"
      ],
      "execution_count": null,
      "outputs": []
    },
    {
      "cell_type": "code",
      "metadata": {
        "id": "lcy03Z3SY2ip"
      },
      "source": [
        "def make_train_data(flower_type,DIR):\n",
        "    for img in tqdm(os.listdir(DIR)):\n",
        "        label=assign_label(img,flower_type)\n",
        "        path = os.path.join(DIR,img)\n",
        "        img = cv2.imread(path,cv2.IMREAD_COLOR)\n",
        "        img = cv2.resize(img, (IMG_SIZE,IMG_SIZE))\n",
        "        \n",
        "        X.append(np.array(img))\n",
        "        Z.append(str(label))"
      ],
      "execution_count": null,
      "outputs": []
    },
    {
      "cell_type": "code",
      "metadata": {
        "colab": {
          "base_uri": "https://localhost:8080/",
          "height": 300
        },
        "id": "i2D0HyTYZFsq",
        "outputId": "60730671-6607-4b18-df53-537eb2301ecd"
      },
      "source": [
        "make_train_data('Daisy',FLOWER_DAISY_DIR)\n",
        "print(len(X))"
      ],
      "execution_count": null,
      "outputs": [
        {
          "output_type": "error",
          "ename": "FileNotFoundError",
          "evalue": "ignored",
          "traceback": [
            "\u001b[0;31m---------------------------------------------------------------------------\u001b[0m",
            "\u001b[0;31mFileNotFoundError\u001b[0m                         Traceback (most recent call last)",
            "\u001b[0;32m<ipython-input-7-323a612e4aba>\u001b[0m in \u001b[0;36m<module>\u001b[0;34m()\u001b[0m\n\u001b[0;32m----> 1\u001b[0;31m \u001b[0mmake_train_data\u001b[0m\u001b[0;34m(\u001b[0m\u001b[0;34m'Daisy'\u001b[0m\u001b[0;34m,\u001b[0m\u001b[0mFLOWER_DAISY_DIR\u001b[0m\u001b[0;34m)\u001b[0m\u001b[0;34m\u001b[0m\u001b[0;34m\u001b[0m\u001b[0m\n\u001b[0m\u001b[1;32m      2\u001b[0m \u001b[0mprint\u001b[0m\u001b[0;34m(\u001b[0m\u001b[0mlen\u001b[0m\u001b[0;34m(\u001b[0m\u001b[0mX\u001b[0m\u001b[0;34m)\u001b[0m\u001b[0;34m)\u001b[0m\u001b[0;34m\u001b[0m\u001b[0;34m\u001b[0m\u001b[0m\n",
            "\u001b[0;32m<ipython-input-6-1c8f49733d40>\u001b[0m in \u001b[0;36mmake_train_data\u001b[0;34m(flower_type, DIR)\u001b[0m\n\u001b[1;32m      1\u001b[0m \u001b[0;32mdef\u001b[0m \u001b[0mmake_train_data\u001b[0m\u001b[0;34m(\u001b[0m\u001b[0mflower_type\u001b[0m\u001b[0;34m,\u001b[0m\u001b[0mDIR\u001b[0m\u001b[0;34m)\u001b[0m\u001b[0;34m:\u001b[0m\u001b[0;34m\u001b[0m\u001b[0;34m\u001b[0m\u001b[0m\n\u001b[0;32m----> 2\u001b[0;31m     \u001b[0;32mfor\u001b[0m \u001b[0mimg\u001b[0m \u001b[0;32min\u001b[0m \u001b[0mtqdm\u001b[0m\u001b[0;34m(\u001b[0m\u001b[0mos\u001b[0m\u001b[0;34m.\u001b[0m\u001b[0mlistdir\u001b[0m\u001b[0;34m(\u001b[0m\u001b[0mDIR\u001b[0m\u001b[0;34m)\u001b[0m\u001b[0;34m)\u001b[0m\u001b[0;34m:\u001b[0m\u001b[0;34m\u001b[0m\u001b[0;34m\u001b[0m\u001b[0m\n\u001b[0m\u001b[1;32m      3\u001b[0m         \u001b[0mlabel\u001b[0m\u001b[0;34m=\u001b[0m\u001b[0massign_label\u001b[0m\u001b[0;34m(\u001b[0m\u001b[0mimg\u001b[0m\u001b[0;34m,\u001b[0m\u001b[0mflower_type\u001b[0m\u001b[0;34m)\u001b[0m\u001b[0;34m\u001b[0m\u001b[0;34m\u001b[0m\u001b[0m\n\u001b[1;32m      4\u001b[0m         \u001b[0mpath\u001b[0m \u001b[0;34m=\u001b[0m \u001b[0mos\u001b[0m\u001b[0;34m.\u001b[0m\u001b[0mpath\u001b[0m\u001b[0;34m.\u001b[0m\u001b[0mjoin\u001b[0m\u001b[0;34m(\u001b[0m\u001b[0mDIR\u001b[0m\u001b[0;34m,\u001b[0m\u001b[0mimg\u001b[0m\u001b[0;34m)\u001b[0m\u001b[0;34m\u001b[0m\u001b[0;34m\u001b[0m\u001b[0m\n\u001b[1;32m      5\u001b[0m         \u001b[0mimg\u001b[0m \u001b[0;34m=\u001b[0m \u001b[0mcv2\u001b[0m\u001b[0;34m.\u001b[0m\u001b[0mimread\u001b[0m\u001b[0;34m(\u001b[0m\u001b[0mpath\u001b[0m\u001b[0;34m,\u001b[0m\u001b[0mcv2\u001b[0m\u001b[0;34m.\u001b[0m\u001b[0mIMREAD_COLOR\u001b[0m\u001b[0;34m)\u001b[0m\u001b[0;34m\u001b[0m\u001b[0;34m\u001b[0m\u001b[0m\n",
            "\u001b[0;31mFileNotFoundError\u001b[0m: [Errno 2] No such file or directory: '/content/gdrive/MyDrive/Flowers/daisy'"
          ]
        }
      ]
    },
    {
      "cell_type": "code",
      "metadata": {
        "id": "2_9ydh-8ZNb8"
      },
      "source": [
        "make_train_data('Sunflower',FLOWER_SUNFLOWER_DIR)\n",
        "print(len(X))"
      ],
      "execution_count": null,
      "outputs": []
    },
    {
      "cell_type": "code",
      "metadata": {
        "id": "I3Sj3G2zZRiC"
      },
      "source": [
        "make_train_data('Tulip',FLOWER_TULIP_DIR)\n",
        "print(len(X))"
      ],
      "execution_count": null,
      "outputs": []
    },
    {
      "cell_type": "code",
      "metadata": {
        "id": "i0C3nWwCZYjk"
      },
      "source": [
        "make_train_data('Dandelion',FLOWER_DANDI_DIR)\n",
        "print(len(X))"
      ],
      "execution_count": null,
      "outputs": []
    },
    {
      "cell_type": "code",
      "metadata": {
        "id": "SGhSnXI-ZbZh"
      },
      "source": [
        "make_train_data('Rose',FLOWER_ROSE_DIR)\n",
        "print(len(X))"
      ],
      "execution_count": null,
      "outputs": []
    },
    {
      "cell_type": "code",
      "metadata": {
        "id": "QTde64SwZe4h"
      },
      "source": [
        "fig,ax=plt.subplots(5,2)\n",
        "fig.set_size_inches(15,15)\n",
        "for i in range(5):\n",
        "    for j in range (2):\n",
        "        l=rn.randint(0,len(Z))\n",
        "        ax[i,j].imshow(X[l])\n",
        "        ax[i,j].set_title('Flower: '+Z[l])\n",
        "        \n",
        "plt.tight_layout()"
      ],
      "execution_count": null,
      "outputs": []
    },
    {
      "cell_type": "code",
      "metadata": {
        "id": "q9VIVtqFZjxu"
      },
      "source": [
        "le=LabelEncoder()\n",
        "Y=le.fit_transform(Z)\n",
        "Y=to_categorical(Y,5)\n",
        "X=np.array(X)\n",
        "X=X/255"
      ],
      "execution_count": null,
      "outputs": []
    },
    {
      "cell_type": "code",
      "metadata": {
        "id": "j5PbuUlqk6dE"
      },
      "source": [
        "X.shape"
      ],
      "execution_count": null,
      "outputs": []
    },
    {
      "cell_type": "code",
      "metadata": {
        "id": "U5Psd--Ik7u7"
      },
      "source": [
        "Y.shape"
      ],
      "execution_count": null,
      "outputs": []
    },
    {
      "cell_type": "code",
      "metadata": {
        "id": "ATqkP0eCbMWF"
      },
      "source": [
        "x_train,x_test,y_train,y_test=train_test_split(X,Y,test_size=0.25)"
      ],
      "execution_count": null,
      "outputs": []
    },
    {
      "cell_type": "code",
      "metadata": {
        "id": "7HNBbkimjfqA"
      },
      "source": [
        "y_test.shape"
      ],
      "execution_count": null,
      "outputs": []
    },
    {
      "cell_type": "code",
      "metadata": {
        "id": "cNIs5szobSNt"
      },
      "source": [
        "# # modelling starts using a CNN.\n",
        "\n",
        "model = Sequential()\n",
        "model.add(Conv2D(filters = 32, kernel_size = (5,5),padding = 'Same',activation ='relu', input_shape = (150,150,3)))\n",
        "model.add(MaxPooling2D(pool_size=(2,2)))\n",
        "\n",
        "\n",
        "model.add(Conv2D(filters = 64, kernel_size = (3,3),padding = 'Same',activation ='relu'))\n",
        "model.add(MaxPooling2D(pool_size=(2,2), strides=(2,2)))\n",
        " \n",
        "\n",
        "model.add(Conv2D(filters =96, kernel_size = (3,3),padding = 'Same',activation ='relu'))\n",
        "model.add(MaxPooling2D(pool_size=(2,2), strides=(2,2)))\n",
        "\n",
        "model.add(Conv2D(filters = 96, kernel_size = (3,3),padding = 'Same',activation ='relu'))\n",
        "model.add(MaxPooling2D(pool_size=(2,2), strides=(2,2)))\n",
        "\n",
        "model.add(Flatten())\n",
        "model.add(Dense(512))\n",
        "model.add(Activation('relu'))\n",
        "model.add(Dense(5, activation = \"softmax\"))"
      ],
      "execution_count": null,
      "outputs": []
    },
    {
      "cell_type": "code",
      "metadata": {
        "id": "CNRa-3ERcFak"
      },
      "source": [
        "#using a LR Annealer\n",
        "batch_size=128\n",
        "epochs=50\n",
        "\n",
        "from keras.callbacks import ReduceLROnPlateau\n",
        "red_lr= ReduceLROnPlateau(monitor='val_acc',patience=3,verbose=1,factor=0.1)"
      ],
      "execution_count": null,
      "outputs": []
    },
    {
      "cell_type": "code",
      "metadata": {
        "id": "nAR0RhXFcOYD"
      },
      "source": [
        "datagen = ImageDataGenerator(\n",
        "        featurewise_center=False,  # set input mean to 0 over the dataset\n",
        "        samplewise_center=False,  # set each sample mean to 0\n",
        "        featurewise_std_normalization=False,  # divide inputs by std of the dataset\n",
        "        samplewise_std_normalization=False,  # divide each input by its std\n",
        "        zca_whitening=False,  # apply ZCA whitening\n",
        "        rotation_range=10,  # randomly rotate images in the range (degrees, 0 to 180)\n",
        "        zoom_range = 0.1, # Randomly zoom image \n",
        "        width_shift_range=0.2,  # randomly shift images horizontally (fraction of total width)\n",
        "        height_shift_range=0.2,  # randomly shift images vertically (fraction of total height)\n",
        "        horizontal_flip=True,  # randomly flip images\n",
        "        vertical_flip=False)  # randomly flip images\n",
        "\n",
        "\n",
        "datagen.fit(x_train)"
      ],
      "execution_count": null,
      "outputs": []
    },
    {
      "cell_type": "code",
      "metadata": {
        "id": "Mwy--TY0cXqK"
      },
      "source": [
        "model.compile(optimizer=Adam(lr=0.001),loss='categorical_crossentropy',metrics=['accuracy'])"
      ],
      "execution_count": null,
      "outputs": []
    },
    {
      "cell_type": "code",
      "metadata": {
        "id": "pPDxmDV4cfsG"
      },
      "source": [
        "model.summary()"
      ],
      "execution_count": null,
      "outputs": []
    },
    {
      "cell_type": "code",
      "metadata": {
        "id": "78UkuAK7ci-y"
      },
      "source": [
        "History = model.fit_generator(datagen.flow(x_train,y_train, batch_size=batch_size),\n",
        "                              epochs = epochs, validation_data = (x_test,y_test), \n",
        "                              verbose = 1)\n",
        "# model.fit(x_train,y_train,epochs=epochs,batch_size=batch_size,validation_data = (x_test,y_test))"
      ],
      "execution_count": null,
      "outputs": []
    },
    {
      "cell_type": "code",
      "metadata": {
        "id": "X22yndFecqus"
      },
      "source": [
        "plt.plot(History.history['loss'])\n",
        "plt.plot(History.history['val_loss'])\n",
        "plt.title('Model Loss')\n",
        "plt.ylabel('Loss')\n",
        "plt.xlabel('Epochs')\n",
        "plt.legend(['train', 'test'])\n",
        "plt.show()"
      ],
      "execution_count": null,
      "outputs": []
    },
    {
      "cell_type": "code",
      "metadata": {
        "id": "8lAEHEGdgJXV"
      },
      "source": [
        "plt.plot(History.history['accuracy'])\n",
        "plt.plot(History.history['val_accuracy'])\n",
        "plt.title('Model Accuracy')\n",
        "plt.ylabel('Accuracy')\n",
        "plt.xlabel('Epochs')\n",
        "plt.legend(['train', 'test'])\n",
        "plt.show()"
      ],
      "execution_count": null,
      "outputs": []
    },
    {
      "cell_type": "code",
      "metadata": {
        "id": "YVuoy__Ygx9k"
      },
      "source": [
        "predictions = model.predict(x_test)\n",
        "predictions = np.argmax(predictions,axis = 1)"
      ],
      "execution_count": null,
      "outputs": []
    },
    {
      "cell_type": "code",
      "metadata": {
        "id": "WnpYdrlu2o8m"
      },
      "source": [
        "y_test_ = to_categorical(y_test)"
      ],
      "execution_count": null,
      "outputs": []
    },
    {
      "cell_type": "code",
      "metadata": {
        "id": "6RXcLPO92p86"
      },
      "source": [
        "predictions = to_categorical(predictions,5)"
      ],
      "execution_count": null,
      "outputs": []
    },
    {
      "cell_type": "code",
      "metadata": {
        "id": "0YET3pu5toO7"
      },
      "source": [
        "a = np.argmax(predictions, axis=1 )"
      ],
      "execution_count": null,
      "outputs": []
    },
    {
      "cell_type": "code",
      "metadata": {
        "id": "pNz9YA4EtpAb"
      },
      "source": [
        "b = np.argmax(y_test ,axis=1)"
      ],
      "execution_count": null,
      "outputs": []
    },
    {
      "cell_type": "code",
      "metadata": {
        "id": "oVqchlX5tr_D"
      },
      "source": [
        "cm = confusion_matrix(a,b)\n",
        "cm"
      ],
      "execution_count": null,
      "outputs": []
    },
    {
      "cell_type": "code",
      "metadata": {
        "id": "Yvc7vIaftu49"
      },
      "source": [
        "accuracy = sum(cm[i][i] for i in range(5)) / y_test.shape[0]\n",
        "print(\"accuracy = \" + str(accuracy))"
      ],
      "execution_count": null,
      "outputs": []
    },
    {
      "cell_type": "markdown",
      "metadata": {
        "id": "EiaHWLd43GCt"
      },
      "source": [
        "Screenshot of accuracy"
      ]
    },
    {
      "cell_type": "markdown",
      "metadata": {
        "id": "34LaD2ck3B0H"
      },
      "source": [
        "![image.png](data:image/png;base64,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)"
      ]
    },
    {
      "cell_type": "code",
      "metadata": {
        "id": "kGbU56Lrt5JJ"
      },
      "source": [
        "from sklearn.metrics import precision_score, recall_score\n",
        "print('precision score - ',precision_score(y_test, predictions, average=\"macro\"))\n",
        "print('recall score - ', recall_score(y_test, predictions, average=\"macro\"))"
      ],
      "execution_count": null,
      "outputs": []
    },
    {
      "cell_type": "code",
      "metadata": {
        "id": "PDEpurYMt5uZ"
      },
      "source": [
        "model.save('final_flowers_model2')"
      ],
      "execution_count": null,
      "outputs": []
    },
    {
      "cell_type": "code",
      "metadata": {
        "id": "BhTysib6t8Fh"
      },
      "source": [
        "from tensorflow import keras\n",
        "model = keras.models.load_model('final_flowers_model2')"
      ],
      "execution_count": null,
      "outputs": []
    },
    {
      "cell_type": "code",
      "metadata": {
        "id": "WQ5U6hHo2Ywb"
      },
      "source": [
        ""
      ],
      "execution_count": null,
      "outputs": []
    }
  ]
}